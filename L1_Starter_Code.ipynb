{
 "cells": [
  {
   "cell_type": "markdown",
   "metadata": {},
   "source": [
    "Before we get started, a couple of reminders to keep in mind when using iPython notebooks:\n",
    "\n",
    "- Remember that you can see from the left side of a code cell when it was last run if there is a number within the brackets.\n",
    "- When you start a new notebook session, make sure you run all of the cells up to the point where you last left off. Even if the output is still visible from when you ran the cells in your previous session, the kernel starts in a fresh state so you'll need to reload the data, etc. on a new session.\n",
    "- The previous point is useful to keep in mind if your answers do not match what is expected in the lesson's quizzes. Try reloading the data and run all of the processing steps one by one in order to make sure that you are working with the same variables and data that are at each quiz stage.\n",
    "\n",
    "\n",
    "## Load Data from CSVs"
   ]
  },
  {
   "cell_type": "code",
   "execution_count": 26,
   "metadata": {},
   "outputs": [
    {
     "data": {
      "text/plain": [
       "{'account_key': '448',\n",
       " 'status': 'canceled',\n",
       " 'join_date': '2014-11-10',\n",
       " 'cancel_date': '2015-01-14',\n",
       " 'days_to_cancel': '65',\n",
       " 'is_udacity': 'True',\n",
       " 'is_canceled': 'True'}"
      ]
     },
     "execution_count": 26,
     "metadata": {},
     "output_type": "execute_result"
    }
   ],
   "source": [
    "import unicodecsv\n",
    "\n",
    "with open('enrollments.csv', 'rb') as f:\n",
    "    reader = unicodecsv.DictReader(f)\n",
    "    enrollments = list(reader)\n",
    "enrollments[0]"
   ]
  },
  {
   "cell_type": "code",
   "execution_count": 27,
   "metadata": {},
   "outputs": [
    {
     "name": "stdout",
     "output_type": "stream",
     "text": [
      "<class 'list'>\n",
      "{'account_key': '448', 'status': 'canceled', 'join_date': '2014-11-10', 'cancel_date': '2015-01-14', 'days_to_cancel': '65', 'is_udacity': 'True', 'is_canceled': 'True'}\n",
      "{'acct': '0', 'utc_date': '2015-01-09', 'num_courses_visited': '1.0', 'total_minutes_visited': '11.6793745', 'lessons_completed': '0.0', 'projects_completed': '0.0'}\n",
      "{'creation_date': '2015-01-14', 'completion_date': '2015-01-16', 'assigned_rating': 'UNGRADED', 'account_key': '256', 'lesson_key': '3176718735', 'processing_state': 'EVALUATED'}\n"
     ]
    }
   ],
   "source": [
    "#####################################\n",
    "#                 1                 #\n",
    "#####################################\n",
    "\n",
    "## Read in the data from daily_engagement.csv and project_submissions.csv \n",
    "## and store the results in the below variables.\n",
    "## Then look at the first row of each table.\n",
    "\n",
    "import unicodecsv\n",
    "\n",
    "def read_csv(filename):\n",
    "    with open(filename, 'rb') as f:\n",
    "        reader = unicodecsv.DictReader(f)\n",
    "        return list(reader)\n",
    "\n",
    "enrollments = read_csv('enrollments.csv')\n",
    "daily_engagement = read_csv('daily_engagement.csv')\n",
    "project_submissions = read_csv('project_submissions.csv')\n",
    "print(type(enrollments))#list of dictionaries\n",
    "print(enrollments[0])\n",
    "print(daily_engagement[0])\n",
    "print(project_submissions[0])\n",
    "\n",
    "\n",
    "# with open('daily_engagement.csv', 'rb') as f:\n",
    "#     reader = unicodecsv.DictReader(f)   \n",
    "#     daily_engagement = list(reader)\n",
    "# with open('project_submissions.csv', 'rb') as f:\n",
    "#     reader = unicodecsv.DictReader(f)\n",
    "#     project_submissions = list(reader)\n",
    "    \n",
    "# print(daily_engagement[0], project_submissions[0])"
   ]
  },
  {
   "cell_type": "markdown",
   "metadata": {},
   "source": [
    "## Fixing Data Types"
   ]
  },
  {
   "cell_type": "code",
   "execution_count": 28,
   "metadata": {},
   "outputs": [
    {
     "data": {
      "text/plain": [
       "{'account_key': '448',\n",
       " 'status': 'canceled',\n",
       " 'join_date': datetime.datetime(2014, 11, 10, 0, 0),\n",
       " 'cancel_date': datetime.datetime(2015, 1, 14, 0, 0),\n",
       " 'days_to_cancel': 65,\n",
       " 'is_udacity': True,\n",
       " 'is_canceled': True}"
      ]
     },
     "execution_count": 28,
     "metadata": {},
     "output_type": "execute_result"
    }
   ],
   "source": [
    "from datetime import datetime as dt\n",
    "\n",
    "# Takes a date as a string, and returns a Python datetime object. \n",
    "# If there is no date given, returns None\n",
    "def parse_date(date):\n",
    "    if date == '':\n",
    "        return None\n",
    "    else:\n",
    "        return dt.strptime(date, '%Y-%m-%d')\n",
    "    \n",
    "# Takes a string which is either an empty string or represents an integer,\n",
    "# and returns an int or None.\n",
    "def parse_maybe_int(i):\n",
    "    if i == '':\n",
    "        return None\n",
    "    else:\n",
    "        return int(i)\n",
    "\n",
    "# Clean up the data types in the enrollments table\n",
    "for enrollment in enrollments:\n",
    "    enrollment['cancel_date'] = parse_date(enrollment['cancel_date'])\n",
    "    enrollment['days_to_cancel'] = parse_maybe_int(enrollment['days_to_cancel'])\n",
    "    enrollment['is_canceled'] = enrollment['is_canceled'] == 'True'\n",
    "    enrollment['is_udacity'] = enrollment['is_udacity'] == 'True'\n",
    "    enrollment['join_date'] = parse_date(enrollment['join_date'])\n",
    "    \n",
    "enrollments[0]"
   ]
  },
  {
   "cell_type": "code",
   "execution_count": 29,
   "metadata": {},
   "outputs": [
    {
     "data": {
      "text/plain": [
       "{'acct': '0',\n",
       " 'utc_date': datetime.datetime(2015, 1, 9, 0, 0),\n",
       " 'num_courses_visited': 1,\n",
       " 'total_minutes_visited': 11.6793745,\n",
       " 'lessons_completed': 0,\n",
       " 'projects_completed': 0}"
      ]
     },
     "execution_count": 29,
     "metadata": {},
     "output_type": "execute_result"
    }
   ],
   "source": [
    "# Clean up the data types in the engagement table\n",
    "for engagement_record in daily_engagement:\n",
    "    engagement_record['lessons_completed'] = int(float(engagement_record['lessons_completed']))\n",
    "    engagement_record['num_courses_visited'] = int(float(engagement_record['num_courses_visited']))\n",
    "    engagement_record['projects_completed'] = int(float(engagement_record['projects_completed']))\n",
    "    engagement_record['total_minutes_visited'] = float(engagement_record['total_minutes_visited'])\n",
    "    engagement_record['utc_date'] = parse_date(engagement_record['utc_date'])\n",
    "    \n",
    "daily_engagement[0]"
   ]
  },
  {
   "cell_type": "code",
   "execution_count": 30,
   "metadata": {},
   "outputs": [
    {
     "data": {
      "text/plain": [
       "{'creation_date': datetime.datetime(2015, 1, 14, 0, 0),\n",
       " 'completion_date': datetime.datetime(2015, 1, 16, 0, 0),\n",
       " 'assigned_rating': 'UNGRADED',\n",
       " 'account_key': '256',\n",
       " 'lesson_key': '3176718735',\n",
       " 'processing_state': 'EVALUATED'}"
      ]
     },
     "execution_count": 30,
     "metadata": {},
     "output_type": "execute_result"
    }
   ],
   "source": [
    "# Clean up the data types in the submissions table\n",
    "for submission in project_submissions:\n",
    "    submission['completion_date'] = parse_date(submission['completion_date'])\n",
    "    submission['creation_date'] = parse_date(submission['creation_date'])\n",
    "\n",
    "project_submissions[0]"
   ]
  },
  {
   "cell_type": "markdown",
   "metadata": {},
   "source": [
    "Note when running the above cells that we are actively changing the contents of our data variables. If you try to run these cells multiple times in the same session, an error will occur.\n",
    "\n",
    "## Investigating the Data"
   ]
  },
  {
   "cell_type": "code",
   "execution_count": 31,
   "metadata": {},
   "outputs": [
    {
     "name": "stdout",
     "output_type": "stream",
     "text": [
      "1640\n",
      "1302\n",
      "136240\n",
      "1237\n",
      "3642\n",
      "743\n"
     ]
    }
   ],
   "source": [
    "#####################################\n",
    "#                 2                 #\n",
    "#####################################\n",
    "\n",
    "## Find the total number of rows and the number of unique students (account keys)\n",
    "## in each table.\n",
    "print(len(enrollments))\n",
    "\n",
    "unique_enrolled_students = set()\n",
    "for enrollment in enrollments:\n",
    "    unique_enrolled_students.add(enrollment['account_key'])\n",
    "print(len(unique_enrolled_students))\n",
    "\n",
    "print(len(daily_engagement))\n",
    "\n",
    "unique_engagement_students = set()\n",
    "for engagement_record in daily_engagement:\n",
    "    unique_engagement_students.add(engagement_record['acct'])\n",
    "print(len(unique_engagement_students))\n",
    "\n",
    "print(len(project_submissions))\n",
    "\n",
    "unique_project_submitters = set()\n",
    "for submission in project_submissions:\n",
    "    unique_project_submitters.add(submission['account_key'])\n",
    "print(len(unique_project_submitters))\n"
   ]
  },
  {
   "cell_type": "markdown",
   "metadata": {},
   "source": [
    "## Problems in the Data"
   ]
  },
  {
   "cell_type": "code",
   "execution_count": 32,
   "metadata": {},
   "outputs": [],
   "source": [
    "#####################################\n",
    "#                 3                 #\n",
    "#####################################\n",
    "\n",
    "## Rename the \"acct\" column in the daily_engagement table to \"account_key\".\n",
    "# for engagement in daily_engagement:\n",
    "for engagement_record in daily_engagement:\n",
    "    engagement_record['account_key'] = engagement_record['acct']\n",
    "    del[engagement_record['acct']]"
   ]
  },
  {
   "cell_type": "markdown",
   "metadata": {},
   "source": [
    "## Missing Engagement Records"
   ]
  },
  {
   "cell_type": "code",
   "execution_count": 33,
   "metadata": {},
   "outputs": [
    {
     "name": "stdout",
     "output_type": "stream",
     "text": [
      "{'account_key': '1219', 'status': 'canceled', 'join_date': datetime.datetime(2014, 11, 12, 0, 0), 'cancel_date': datetime.datetime(2014, 11, 12, 0, 0), 'days_to_cancel': 0, 'is_udacity': False, 'is_canceled': True}\n"
     ]
    }
   ],
   "source": [
    "#####################################\n",
    "#                 4                 #\n",
    "#####################################\n",
    "\n",
    "## Find any one student enrollments where the student is missing from the daily engagement table.\n",
    "## Output that enrollment.\n",
    "for enrollment in enrollments:\n",
    "    student = enrollment['account_key']\n",
    "    if student not in unique_engagement_students:\n",
    "        print(enrollment)\n",
    "        break"
   ]
  },
  {
   "cell_type": "markdown",
   "metadata": {},
   "source": [
    "## Checking for More Problem Records"
   ]
  },
  {
   "cell_type": "code",
   "execution_count": 37,
   "metadata": {},
   "outputs": [
    {
     "name": "stdout",
     "output_type": "stream",
     "text": [
      "{'account_key': '1304', 'status': 'canceled', 'join_date': datetime.datetime(2015, 1, 10, 0, 0), 'cancel_date': datetime.datetime(2015, 3, 10, 0, 0), 'days_to_cancel': 59, 'is_udacity': True, 'is_canceled': True}\n",
      "{'account_key': '1304', 'status': 'canceled', 'join_date': datetime.datetime(2015, 3, 10, 0, 0), 'cancel_date': datetime.datetime(2015, 6, 17, 0, 0), 'days_to_cancel': 99, 'is_udacity': True, 'is_canceled': True}\n",
      "{'account_key': '1101', 'status': 'current', 'join_date': datetime.datetime(2015, 2, 25, 0, 0), 'cancel_date': None, 'days_to_cancel': None, 'is_udacity': True, 'is_canceled': False}\n",
      "3\n"
     ]
    }
   ],
   "source": [
    "#####################################\n",
    "#                 5                 #\n",
    "#####################################\n",
    "\n",
    "## Find the number of surprising data points (enrollments missing from\n",
    "## the engagement table) that remain, if any.\n",
    "index = 0\n",
    "for enrollment in enrollments:\n",
    "#     days_to_cancel = enrollment['days_to_cancel']\n",
    "    student = enrollment['account_key']\n",
    "    if (enrollment['join_date']!=enrollment['cancel_date']) and (student not in unique_engagement_students):\n",
    "        index += 1\n",
    "        print(enrollment)\n",
    "print(index)"
   ]
  },
  {
   "cell_type": "markdown",
   "metadata": {},
   "source": [
    "## Tracking Down the Remaining Problems"
   ]
  },
  {
   "cell_type": "code",
   "execution_count": 38,
   "metadata": {},
   "outputs": [
    {
     "data": {
      "text/plain": [
       "6"
      ]
     },
     "execution_count": 38,
     "metadata": {},
     "output_type": "execute_result"
    }
   ],
   "source": [
    "# Create a set of the account keys for all Udacity test accounts\n",
    "udacity_test_accounts = set()\n",
    "for enrollment in enrollments:\n",
    "    if enrollment['is_udacity']:\n",
    "        udacity_test_accounts.add(enrollment['account_key'])\n",
    "len(udacity_test_accounts)"
   ]
  },
  {
   "cell_type": "code",
   "execution_count": 39,
   "metadata": {},
   "outputs": [],
   "source": [
    "# Given some data with an account_key field, removes any records corresponding to Udacity test accounts\n",
    "def remove_udacity_accounts(data):\n",
    "    non_udacity_data = []\n",
    "    for data_point in data:\n",
    "        if data_point['account_key'] not in udacity_test_accounts:\n",
    "            non_udacity_data.append(data_point)\n",
    "    return non_udacity_data"
   ]
  },
  {
   "cell_type": "code",
   "execution_count": 40,
   "metadata": {},
   "outputs": [
    {
     "name": "stdout",
     "output_type": "stream",
     "text": [
      "1622\n",
      "135656\n",
      "3634\n"
     ]
    }
   ],
   "source": [
    "# Remove Udacity test accounts from all three tables\n",
    "non_udacity_enrollments = remove_udacity_accounts(enrollments)\n",
    "non_udacity_engagement = remove_udacity_accounts(daily_engagement)\n",
    "non_udacity_submissions = remove_udacity_accounts(project_submissions)\n",
    "\n",
    "print(len(non_udacity_enrollments))\n",
    "print(len(non_udacity_engagement))\n",
    "print(len(non_udacity_submissions))"
   ]
  },
  {
   "cell_type": "markdown",
   "metadata": {},
   "source": [
    "## Refining the Question"
   ]
  },
  {
   "cell_type": "code",
   "execution_count": 41,
   "metadata": {},
   "outputs": [
    {
     "name": "stdout",
     "output_type": "stream",
     "text": [
      "{'utc_date': datetime.datetime(2015, 1, 9, 0, 0), 'num_courses_visited': 1, 'total_minutes_visited': 11.6793745, 'lessons_completed': 0, 'projects_completed': 0, 'account_key': '0'}\n"
     ]
    }
   ],
   "source": [
    "#####################################\n",
    "#                 6                 #\n",
    "#####################################\n",
    "\n",
    "## Create a dictionary named paid_students containing all students who either\n",
    "## haven't canceled yet or who remained enrolled for more than 7 days. The keys\n",
    "## should be account keys, and the values should be the date the student enrolled.\n",
    "paid_students = {}\n",
    "for enroll in non_udacity_enrollments:\n",
    "    if enroll['days_to_cancel'] is None or enroll['days_to_cancel'] > 7:\n",
    "        key = enroll['account_key']\n",
    "        date = enroll['join_date']\n",
    "        if key not in paid_students or date > paid_students[key]:\n",
    "            paid_students[key] = date\n",
    "len(paid_students)\n",
    "print(non_udacity_engagement[0])"
   ]
  },
  {
   "cell_type": "markdown",
   "metadata": {},
   "source": [
    "## Getting Data from First Week"
   ]
  },
  {
   "cell_type": "code",
   "execution_count": 42,
   "metadata": {},
   "outputs": [],
   "source": [
    "# Takes a student's join date and the date of a specific engagement record,\n",
    "# and returns True if that engagement record happened within one week\n",
    "# of the student joining.\n",
    "def within_one_week(join_date, engagement_date):\n",
    "    time_delta = engagement_date - join_date\n",
    "    return time_delta.days < 7 and time_delta.days >= 0"
   ]
  },
  {
   "cell_type": "code",
   "execution_count": 44,
   "metadata": {},
   "outputs": [
    {
     "name": "stdout",
     "output_type": "stream",
     "text": [
      "<class 'dict'>\n",
      "<class 'dict'>\n",
      "<class 'list'>\n",
      "134549\n",
      "3618\n",
      "<class 'list'>\n",
      "{'utc_date': datetime.datetime(2015, 1, 9, 0, 0), 'num_courses_visited': 1, 'total_minutes_visited': 11.6793745, 'lessons_completed': 0, 'projects_completed': 0, 'account_key': '0', 'has_visited': 1}\n"
     ]
    }
   ],
   "source": [
    "#####################################\n",
    "#                 7                 #\n",
    "#####################################\n",
    "\n",
    "## Create a list of rows from the engagement table including only rows where\n",
    "## the student is one of the paid students you just found, and the date is within\n",
    "## one week of the student's join date.\n",
    "\n",
    "print(type(paid_students))\n",
    "def remove_free_trial_cancels(data):\n",
    "    new_data = []\n",
    "    for data_point in data:\n",
    "        if data_point['account_key'] in paid_students:#checks keys in paid_students\n",
    "            new_data.append(data_point)\n",
    "    return new_data\n",
    "\n",
    "paid_enrollments = remove_free_trial_cancels(non_udacity_enrollments)\n",
    "paid_engagement = remove_free_trial_cancels(non_udacity_engagement)\n",
    "paid_submissions = remove_free_trial_cancels(non_udacity_submissions)\n",
    "print(type(paid_enrollments[0]))\n",
    "print (type(paid_enrollments))\n",
    "print (len(paid_engagement))\n",
    "print (len(paid_submissions))\n",
    "\n",
    "# for engagement_record in paid_engagement:\n",
    "#     if engagement_record['num_courses_visited']>0:\n",
    "#         engagement_record['has_visited']=1\n",
    "#     else:\n",
    "#         engagement_record['has_visited']=0\n",
    "        \n",
    "paid_engagement_in_first_week = []\n",
    "for engagement_record in paid_engagement:\n",
    "    account_key = engagement_record['account_key']\n",
    "    join_date = paid_students[account_key]\n",
    "    engagement_record_date = engagement_record['utc_date']\n",
    "\n",
    "    if within_one_week(join_date, engagement_record_date):\n",
    "         paid_engagement_in_first_week.append(engagement_record)\n",
    "\n",
    "print(type(paid_engagement_in_first_week))\n",
    "print((paid_engagement_in_first_week[0]))"
   ]
  },
  {
   "cell_type": "markdown",
   "metadata": {},
   "source": [
    "## Exploring Student Engagement"
   ]
  },
  {
   "cell_type": "code",
   "execution_count": 45,
   "metadata": {},
   "outputs": [],
   "source": [
    "from collections import defaultdict\n",
    "\n",
    "# Create a dictionary of engagement grouped by student.\n",
    "# The keys are account keys, and the values are lists of engagement records.\n",
    "engagement_by_account = defaultdict(list)\n",
    "\n",
    "\n",
    "for engagement_record in paid_engagement_in_first_week:\n",
    "    account_key = engagement_record['account_key']\n",
    "    engagement_by_account[account_key].append(engagement_record)"
   ]
  },
  {
   "cell_type": "code",
   "execution_count": 47,
   "metadata": {},
   "outputs": [],
   "source": [
    "# Create a dictionary with the total minutes each student spent in the classroom during the first week.\n",
    "# The keys are account keys, and the values are numbers (total minutes)\n",
    "total_minutes_by_account = {}\n",
    "\n",
    "for account_key, engagement_for_student in engagement_by_account.items():\n",
    "    total_minutes = 0\n",
    "    for engagement_record in engagement_for_student:\n",
    "        total_minutes += engagement_record['total_minutes_visited']\n",
    "    total_minutes_by_account[account_key] = total_minutes"
   ]
  },
  {
   "cell_type": "code",
   "execution_count": 48,
   "metadata": {},
   "outputs": [
    {
     "name": "stdout",
     "output_type": "stream",
     "text": [
      "Mean: 306.70832675342825\n",
      "Standard deviation: 412.99693340852957\n",
      "Minimum: 0.0\n",
      "Maximum: 3564.7332644989997\n"
     ]
    }
   ],
   "source": [
    "import numpy as np\n",
    "\n",
    "# Summarize the data about minutes spent in the classroom\n",
    "total_minutes = list(total_minutes_by_account.values())\n",
    "print('Mean:', np.mean(total_minutes))\n",
    "print('Standard deviation:', np.std(total_minutes))\n",
    "print('Minimum:', np.min(total_minutes))\n",
    "print('Maximum:', np.max(total_minutes))"
   ]
  },
  {
   "cell_type": "markdown",
   "metadata": {},
   "source": [
    "## Debugging Data Analysis Code"
   ]
  },
  {
   "cell_type": "code",
   "execution_count": 49,
   "metadata": {},
   "outputs": [
    {
     "name": "stdout",
     "output_type": "stream",
     "text": [
      "3564.7332644989997\n",
      "{'utc_date': datetime.datetime(2015, 7, 9, 0, 0), 'num_courses_visited': 4, 'total_minutes_visited': 850.519339666, 'lessons_completed': 4, 'projects_completed': 0, 'account_key': '163', 'has_visited': 1}\n",
      "{'utc_date': datetime.datetime(2015, 7, 10, 0, 0), 'num_courses_visited': 6, 'total_minutes_visited': 872.633923334, 'lessons_completed': 6, 'projects_completed': 0, 'account_key': '163', 'has_visited': 1}\n",
      "{'utc_date': datetime.datetime(2015, 7, 11, 0, 0), 'num_courses_visited': 2, 'total_minutes_visited': 777.018903666, 'lessons_completed': 6, 'projects_completed': 0, 'account_key': '163', 'has_visited': 1}\n",
      "{'utc_date': datetime.datetime(2015, 7, 12, 0, 0), 'num_courses_visited': 1, 'total_minutes_visited': 294.568774, 'lessons_completed': 2, 'projects_completed': 0, 'account_key': '163', 'has_visited': 1}\n",
      "{'utc_date': datetime.datetime(2015, 7, 13, 0, 0), 'num_courses_visited': 3, 'total_minutes_visited': 471.2139785, 'lessons_completed': 1, 'projects_completed': 0, 'account_key': '163', 'has_visited': 1}\n",
      "{'utc_date': datetime.datetime(2015, 7, 14, 0, 0), 'num_courses_visited': 2, 'total_minutes_visited': 298.778345333, 'lessons_completed': 1, 'projects_completed': 0, 'account_key': '163', 'has_visited': 1}\n",
      "{'utc_date': datetime.datetime(2015, 7, 15, 0, 0), 'num_courses_visited': 0, 'total_minutes_visited': 0.0, 'lessons_completed': 0, 'projects_completed': 0, 'account_key': '163', 'has_visited': 0}\n"
     ]
    }
   ],
   "source": [
    "#####################################\n",
    "#                 8                 #\n",
    "#####################################\n",
    "\n",
    "## Go through a similar process as before to see if there is a problem.\n",
    "## Locate at least one surprising piece of data, output it, and take a look at it.\n",
    "\n",
    "student_with_max_minutes = None \n",
    "max_minutes = 0\n",
    "\n",
    "for account_key, total_min in total_minutes_by_account.items():\n",
    "    if total_min > max_minutes:\n",
    "        max_minutes = total_min\n",
    "        student_with_max_minutes = account_key\n",
    "print(max_minutes)\n",
    "\n",
    "for engagement in paid_engagement_in_first_week:\n",
    "    if engagement['account_key'] == student_with_max_minutes:\n",
    "        print(engagement)"
   ]
  },
  {
   "cell_type": "markdown",
   "metadata": {},
   "source": [
    "## Lessons Completed in First Week"
   ]
  },
  {
   "cell_type": "code",
   "execution_count": 55,
   "metadata": {},
   "outputs": [
    {
     "name": "stdout",
     "output_type": "stream",
     "text": [
      "for for total minutes\n",
      "Mean:306.70832675342825\n",
      "Standard deviation:412.99693340852957\n",
      "Minimum:0.0\n",
      "Maximum:3564.7332644989997\n",
      "--------------------------\n",
      "for for total lessons completed\n",
      "Mean:1.636180904522613\n",
      "Standard deviation:3.002561299829423\n",
      "Minimum:0\n",
      "Maximum:36\n"
     ]
    }
   ],
   "source": [
    "#####################################\n",
    "#                 9                 #\n",
    "#####################################\n",
    "\n",
    "## Adapt the code above to find the mean, standard deviation, minimum, and maximum for\n",
    "## the number of lessons completed by each student during the first week. Try creating\n",
    "## one or more functions to re-use the code above.\n",
    "\n",
    "\n",
    "from collections import defaultdict\n",
    "\n",
    "def group_data(data, key_name):\n",
    "    grouped_data = defaultdict(list)\n",
    "    for data_point in data:\n",
    "        key = data_point[key_name]\n",
    "        grouped_data[key].append(data_point)\n",
    "    return grouped_data\n",
    "\n",
    "engagement_by_account = group_data(paid_engagement_in_first_week,'account_key')\n",
    "\n",
    "def sum_grouped_items(grouped_data, field_name):\n",
    "    summed_data = {}\n",
    "    for key, data_points in grouped_data.items():\n",
    "        total = 0\n",
    "        for data_point in data_points:\n",
    "            total += data_point[field_name]\n",
    "        summed_data[key] = total\n",
    "    return summed_data\n",
    "\n",
    "total_minutes_by_account = sum_grouped_items(engagement_by_account,\n",
    "                                             'total_minutes_visited')\n",
    "lessons_completed_by_account = sum_grouped_items(engagement_by_account,'lessons_completed')\n",
    "\n",
    "import numpy as np\n",
    "\n",
    "# def describe_data(data,datainfo):\n",
    "#     print ('Mean:', np.mean(data))\n",
    "#     print ('Standard deviation:', np.std(data))\n",
    "#     print ('Minimum:', np.min(data))\n",
    "#     print ('Maximum:', np.max(data))\n",
    "    \n",
    "def describe_data(data,datainfo):\n",
    "    print('for {}'.format(datainfo))\n",
    "    print ('Mean:{}'.format(np.mean(data)))\n",
    "    print ('Standard deviation:{}'.format(np.std(data)))\n",
    "    print ('Minimum:{}'.format(np.min(data)))\n",
    "    print ('Maximum:{}'.format(np.max(data)))\n",
    "\n",
    "describe_data(list(total_minutes_by_account.values()),'for total minutes')\n",
    "print('-------------------------------')\n",
    "describe_data(list(lessons_completed_by_account.values()),'for total lessons completed')"
   ]
  },
  {
   "cell_type": "markdown",
   "metadata": {},
   "source": [
    "## Number of Visits in First Week"
   ]
  },
  {
   "cell_type": "code",
   "execution_count": 57,
   "metadata": {},
   "outputs": [
    {
     "name": "stdout",
     "output_type": "stream",
     "text": [
      "for for first week\n",
      "Mean:2.8673366834170855\n",
      "Standard deviation:2.2551980029196814\n",
      "Minimum:0\n",
      "Maximum:7\n"
     ]
    }
   ],
   "source": [
    "######################################\n",
    "#                 10                 #\n",
    "######################################\n",
    "\n",
    "## Find the mean, standard deviation, minimum, and maximum for the number of\n",
    "## days each student visits the classroom during the first week.\n",
    "for engagement_record in paid_engagement:\n",
    "    if engagement_record['num_courses_visited'] > 0:\n",
    "        engagement_record['has_visited'] = 1\n",
    "    else:\n",
    "        engagement_record['has_visited'] = 0\n",
    "\n",
    "days_visited_by_account = sum_grouped_items(engagement_by_account,\n",
    "                                            'has_visited')\n",
    "describe_data(list(days_visited_by_account.values()), 'for first week')\n",
    "\n",
    "# detail(engagement_by_account, 'has_visited')"
   ]
  },
  {
   "cell_type": "markdown",
   "metadata": {},
   "source": [
    "## Splitting out Passing Students"
   ]
  },
  {
   "cell_type": "code",
   "execution_count": 59,
   "metadata": {},
   "outputs": [
    {
     "name": "stdout",
     "output_type": "stream",
     "text": [
      "4527\n",
      "2392\n"
     ]
    }
   ],
   "source": [
    "######################################\n",
    "#                 11                 #\n",
    "######################################\n",
    "\n",
    "## Create two lists of engagement data for paid students in the first week.\n",
    "## The first list should contain data for students who eventually pass the\n",
    "## subway project, and the second list should contain data for students\n",
    "## who do not.\n",
    "\n",
    "subway_project_lesson_keys = ['746169184', '3176718735']\n",
    "\n",
    "pass_subway_project = set()\n",
    "\n",
    "for submission in paid_submissions:\n",
    "    project = submission['lesson_key']\n",
    "    rating = submission['assigned_rating']    \n",
    "\n",
    "    if ((project in subway_project_lesson_keys) and\n",
    "            (rating == 'PASSED' or rating == 'DISTINCTION')):\n",
    "        pass_subway_project.add(submission['account_key'])\n",
    "\n",
    "len(pass_subway_project)\n",
    "\n",
    "passing_engagement = []\n",
    "non_passing_engagement = []\n",
    "\n",
    "for engagement_record in paid_engagement_in_first_week:\n",
    "    if engagement_record['account_key'] in pass_subway_project:\n",
    "        passing_engagement.append(engagement_record)\n",
    "    else:\n",
    "        non_passing_engagement.append(engagement_record)\n",
    "\n",
    "\n",
    "print(len(passing_engagement))\n",
    "print(len(non_passing_engagement))\n"
   ]
  },
  {
   "cell_type": "markdown",
   "metadata": {},
   "source": [
    "## Comparing the Two Student Groups"
   ]
  },
  {
   "cell_type": "code",
   "execution_count": 65,
   "metadata": {},
   "outputs": [
    {
     "name": "stdout",
     "output_type": "stream",
     "text": [
      "non-passing students:\n",
      "for non-passed students total minutes\n",
      "Mean:143.32647426675584\n",
      "Standard deviation:269.5386190114951\n",
      "Minimum:0.0\n",
      "Maximum:1768.5227493319999\n",
      "***************************\n",
      "passing students:\n",
      "for passed students total minutes\n",
      "Mean:394.58604648350865\n",
      "Standard deviation:448.4995193265521\n",
      "Minimum:0.0\n",
      "Maximum:3564.7332644989997\n",
      "***************************\n",
      "\n",
      "\n",
      "non-passing students:\n",
      "for non-passed students lesson completed\n",
      "Mean:0.8620689655172413\n",
      "Standard deviation:2.5491599418312028\n",
      "Minimum:0\n",
      "Maximum:27\n",
      "***************************\n",
      "passing students:\n",
      "for passed students lesson completed\n",
      "Mean:2.052550231839258\n",
      "Standard deviation:3.1422270555779344\n",
      "Minimum:0\n",
      "Maximum:36\n",
      "***************************\n",
      "\n",
      "\n",
      "non-passing students:\n",
      "for non-passed students days visited\n",
      "Mean:1.9051724137931034\n",
      "Standard deviation:1.9057314413619046\n",
      "Minimum:0\n",
      "Maximum:7\n",
      "***************************\n",
      "passing students:\n",
      "for passed students days visited\n",
      "Mean:3.384853168469861\n",
      "Standard deviation:2.2588214709184595\n",
      "Minimum:0\n",
      "Maximum:7\n",
      "***************************\n",
      "\n",
      "\n"
     ]
    }
   ],
   "source": [
    "######################################\n",
    "#                 12                 #\n",
    "######################################\n",
    "\n",
    "## Compute some metrics you're interested in and see how they differ for\n",
    "## students who pass the subway project vs. students who don't. A good\n",
    "## starting point would be the metrics we looked at earlier (minutes spent\n",
    "## in the classroom, lessons completed, and days visited).\n",
    "\n",
    "\n",
    "passing_engagement_by_account = group_data(passing_engagement,'account_key')\n",
    "non_passing_engagement_by_account = group_data(non_passing_engagement,'account_key')\n",
    "\n",
    "print ('non-passing students:')\n",
    "non_passing_minutes = sum_grouped_items(non_passing_engagement_by_account,'total_minutes_visited')\n",
    "describe_data(list(non_passing_minutes.values()),'non-passed students total minutes')\n",
    "print('***************************')\n",
    "\n",
    "print ('passing students:')\n",
    "passing_minutes = sum_grouped_items(passing_engagement_by_account,'total_minutes_visited')\n",
    "describe_data(list(passing_minutes.values()),'passed students total minutes')\n",
    "print('***************************\\n\\n')\n",
    "\n",
    "\n",
    "print ('non-passing students:')\n",
    "non_passing_lessons = sum_grouped_items(non_passing_engagement_by_account,'lessons_completed')\n",
    "describe_data(list(non_passing_lessons.values()),'non-passed students lesson completed')\n",
    "print('***************************')\n",
    "\n",
    "print ('passing students:')\n",
    "passing_lessons = sum_grouped_items(passing_engagement_by_account, 'lessons_completed')\n",
    "describe_data(list(passing_lessons.values()),'passed students lesson completed')\n",
    "print('***************************\\n\\n')\n",
    "\n",
    "\n",
    "print ('non-passing students:')\n",
    "non_passing_visits = sum_grouped_items(non_passing_engagement_by_account,'has_visited')\n",
    "describe_data(list(non_passing_visits.values()),'non-passed students days visited')\n",
    "print('***************************')\n",
    "\n",
    "print ('passing students:')\n",
    "passing_visits = sum_grouped_items(passing_engagement_by_account,'has_visited')\n",
    "describe_data(list(passing_visits.values()),'passed students days visited')\n",
    "print('***************************\\n\\n')\n",
    "\n"
   ]
  },
  {
   "cell_type": "markdown",
   "metadata": {},
   "source": [
    "## Making Histograms"
   ]
  },
  {
   "cell_type": "code",
   "execution_count": 75,
   "metadata": {},
   "outputs": [
    {
     "name": "stdout",
     "output_type": "stream",
     "text": [
      "Populating the interactive namespace from numpy and matplotlib\n"
     ]
    }
   ],
   "source": [
    "######################################\n",
    "#                 13                 #\n",
    "######################################\n",
    "\n",
    "## Make histograms of the three metrics we looked at earlier for both\n",
    "## students who passed the subway project and students who didn't. You\n",
    "## might also want to make histograms of any other metrics you examined.    \n",
    "\n",
    "%pylab inline\n",
    "\n",
    "import matplotlib.pyplot as plt\n",
    "import numpy as np\n",
    "\n",
    "# Summarize the given data\n",
    "def describe_data(data):\n",
    "    print ('Mean:', np.mean(data))\n",
    "    print ('Standard deviation:', np.std(data))\n",
    "    print ('Minimum:', np.min(data))\n",
    "    print ('Maximum:', np.max(data))\n",
    "    plt.hist(data)"
   ]
  },
  {
   "cell_type": "markdown",
   "metadata": {},
   "source": [
    "## Improving Plots and Sharing Findings"
   ]
  },
  {
   "cell_type": "code",
   "execution_count": 76,
   "metadata": {},
   "outputs": [
    {
     "data": {
      "text/plain": [
       "Text(0.5, 1.0, 'Distribution of classroom visits in the first week for students who pass the subway project')"
      ]
     },
     "execution_count": 76,
     "metadata": {},
     "output_type": "execute_result"
    },
    {
     "data": {
      "image/png": "[encoded data removed]",
      "text/plain": [
       "<Figure size 432x288 with 1 Axes>"
      ]
     },
     "metadata": {
      "needs_background": "light"
     },
     "output_type": "display_data"
    }
   ],
   "source": [
    "######################################\n",
    "#                 14                 #\n",
    "######################################\n",
    "\n",
    "## Make a more polished version of at least one of your visualizations\n",
    "## from earlier. Try importing the seaborn library to make the visualization\n",
    "## look better, adding axis labels and a title, and changing one or more\n",
    "## arguments to the hist() function.\n",
    "\n",
    "\n",
    "import seaborn as sns\n",
    "\n",
    "plt.hist(non_passing_visits.values(), bins=8)\n",
    "plt.xlabel('Number of days')\n",
    "plt.title('Distribution of classroom visits in the first week ' + 'for students who do not pass the subway project')\n",
    "\n",
    "plt.hist(passing_visits.values(), bins=8)\n",
    "plt.xlabel('Number of days')\n",
    "plt.title('Distribution of classroom visits in the first week ' + 'for students who pass the subway project')\n"
   ]
  },
  {
   "cell_type": "code",
   "execution_count": null,
   "metadata": {},
   "outputs": [],
   "source": []
  }
 ],
 "metadata": {
  "kernelspec": {
   "display_name": "Python 3",
   "language": "python",
   "name": "python3"
  },
  "language_info": {
   "codemirror_mode": {
    "name": "ipython",
    "version": 3
   },
   "file_extension": ".py",
   "mimetype": "text/x-python",
   "name": "python",
   "nbconvert_exporter": "python",
   "pygments_lexer": "ipython3",
   "version": "3.8.8"
  }
 },
 "nbformat": 4,
 "nbformat_minor": 1
}
